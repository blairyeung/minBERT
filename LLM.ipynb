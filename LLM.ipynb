{
 "cells": [
  {
   "cell_type": "code",
   "execution_count": null,
   "metadata": {},
   "outputs": [],
   "source": [
    "from classifier import BertSentClassifier\n",
    "from types import SimpleNamespace\n",
    "from tokenizer import BertTokenizer\n",
    "import torch"
   ]
  },
  {
   "cell_type": "code",
   "execution_count": null,
   "metadata": {},
   "outputs": [],
   "source": [
    "config = {\n",
    "    'hidden_dropout_prob': 0.3, \n",
    "     'num_labels': 2,\n",
    "     'hidden_size': 768,\n",
    "     'option': 'flexible'\n",
    "}\n",
    "\n",
    "config = SimpleNamespace\n",
    "\n",
    "model = BertSentClassifier(config)\n",
    "tokenizer = BertTokenizer.from_pretrained('bert-base-uncased')"
   ]
  },
  {
   "cell_type": "code",
   "execution_count": null,
   "metadata": {},
   "outputs": [],
   "source": [
    "model_state_dict = torch.load()"
   ]
  }
 ],
 "metadata": {
  "language_info": {
   "name": "python"
  },
  "orig_nbformat": 4
 },
 "nbformat": 4,
 "nbformat_minor": 2
}
