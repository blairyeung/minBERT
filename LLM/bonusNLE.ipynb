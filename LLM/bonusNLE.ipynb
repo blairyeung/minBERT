{
  "nbformat": 4,
  "nbformat_minor": 0,
  "metadata": {
    "colab": {
      "provenance": []
    },
    "kernelspec": {
      "name": "python3",
      "display_name": "Python 3"
    },
    "language_info": {
      "name": "python"
    }
  },
  "cells": [
    {
      "cell_type": "code",
      "source": [
        "!pip install tokenizers\n",
        "!pip install transformers\n",
        "!pip install openai"
      ],
      "metadata": {
        "id": "Xu7gFwVGHQXp"
      },
      "execution_count": null,
      "outputs": []
    },
    {
      "cell_type": "code",
      "source": [
        "import numpy as np\n",
        "import pandas as pd\n",
        "import torch\n",
        "from torch.utils.data import DataLoader\n",
        "from torch.utils.data import Dataset\n",
        "import torch.nn as nn\n",
        "from tqdm import tqdm\n",
        "import matplotlib.pyplot as plt\n",
        "import openai\n",
        "from transformers import GPT2Tokenizer, GPT2LMHeadModel, pipeline"
      ],
      "metadata": {
        "id": "qwXrLmGBHTt7"
      },
      "execution_count": null,
      "outputs": []
    },
    {
      "cell_type": "code",
      "source": [
        "from google.colab import drive\n",
        "drive.mount('/content/drive')\n",
        "folder = '/content/drive/MyDrive/CSC401/'\n",
        "with open(folder+'api.txt', 'r') as file:\n",
        "    API_KEY = file.read()"
      ],
      "metadata": {
        "id": "7fwhY4nxHarP",
        "colab": {
          "base_uri": "https://localhost:8080/"
        },
        "outputId": "bdb4e305-d70c-495f-de61-04aeff73a4e9"
      },
      "execution_count": null,
      "outputs": [
        {
          "output_type": "stream",
          "name": "stdout",
          "text": [
            "Mounted at /content/drive\n"
          ]
        }
      ]
    },
    {
      "cell_type": "code",
      "source": [
        "openai.api_key = API_KEY\n",
        "message_history = []"
      ],
      "metadata": {
        "id": "HZ80_wm1g_wf"
      },
      "execution_count": null,
      "outputs": []
    },
    {
      "cell_type": "markdown",
      "source": [
        "# Large model - GPT4 8K"
      ],
      "metadata": {
        "id": "5kkMNjzQhAnL"
      }
    },
    {
      "cell_type": "code",
      "source": [
        "def GPT4_predict(prompt, model='gpt-4', max_token=400):\n",
        "    message_history.append({\"role\": \"user\", \"content\": f\"{prompt}\"})\n",
        "    \n",
        "    completion = openai.ChatCompletion.create(\n",
        "      model=model,\n",
        "      messages=message_history,\n",
        "      temperature=0.3,\n",
        "      max_tokens=max_token\n",
        "    )\n",
        "\n",
        "    reply_content = completion.choices[0].message.content\n",
        "\n",
        "    message_history.append({\"role\": \"assistant\", \"content\": f\"{reply_content}\"})\n",
        "\n",
        "    return reply_content"
      ],
      "metadata": {
        "id": "jhCD8Sw5HSV6"
      },
      "execution_count": null,
      "outputs": []
    },
    {
      "cell_type": "markdown",
      "source": [
        "# Small model - GPT2"
      ],
      "metadata": {
        "id": "lMEX75EThNPH"
      }
    },
    {
      "cell_type": "code",
      "source": [
        "def GPT2_predict(generator, prompt, max_token=200):\n",
        "  return  generator(prompt, max_length=max_token, num_return_sequences=1)[0]['generated_text']"
      ],
      "metadata": {
        "id": "TZAL5VNPKOZK"
      },
      "execution_count": null,
      "outputs": []
    },
    {
      "cell_type": "code",
      "source": [
        "GPT2_tokenizer = GPT2Tokenizer.from_pretrained('gpt2')\n",
        "GPT2_model = GPT2LMHeadModel.from_pretrained('gpt2')\n",
        "generator = pipeline('text-generation', model='gpt2')"
      ],
      "metadata": {
        "id": "9N30oMrziOkH"
      },
      "execution_count": null,
      "outputs": []
    },
    {
      "cell_type": "code",
      "source": [
        "prompt1 = 'There are seven continents on earth because'\n",
        "prompt2 = 'Water is a polar molecule because'\n",
        "prompt3 = 'The earth is round because'\n",
        "prompts = [prompt1, prompt2, prompt3]"
      ],
      "metadata": {
        "id": "EIz8YyGNhTnH"
      },
      "execution_count": null,
      "outputs": []
    },
    {
      "cell_type": "markdown",
      "source": [
        "## Response from for prompt 1"
      ],
      "metadata": {
        "id": "8C4J3rkthooV"
      }
    },
    {
      "cell_type": "code",
      "source": [
        "max_len = 200"
      ],
      "metadata": {
        "id": "k-qWPqp2sV0p"
      },
      "execution_count": null,
      "outputs": []
    },
    {
      "cell_type": "code",
      "source": [
        "print(f'{prompt1} \\n {GPT4_predict(prompt1, max_token=max_len)}')"
      ],
      "metadata": {
        "colab": {
          "base_uri": "https://localhost:8080/"
        },
        "id": "TUIL3ZyDhi-Q",
        "outputId": "87371cc3-37e7-437c-eaea-d139bb551b8a"
      },
      "execution_count": null,
      "outputs": [
        {
          "output_type": "stream",
          "name": "stdout",
          "text": [
            "There are seven continents on earth because \n",
            " the Earth's landmass is divided into large, continuous areas that are separated by natural boundaries such as oceans and mountain ranges. These large landmasses are known as continents, and there are seven of them:\n",
            "\n",
            "1. Africa\n",
            "2. Antarctica\n",
            "3. Asia\n",
            "4. Europe\n",
            "5. North America\n",
            "6. Australia (or Oceania, which includes Australia, New Zealand, and the Pacific Islands)\n",
            "7. South America\n",
            "\n",
            "The division of the Earth's landmass into continents is based on both geological and geographical factors. The continents have formed over millions of years due to the movement of tectonic plates, which has caused the landmasses to drift, collide, and break apart. In addition to these geological factors, continents are also defined by their distinct geographical features, such as climate, flora, fauna, and human populations.\n"
          ]
        }
      ]
    },
    {
      "cell_type": "code",
      "source": [
        "print(f'{prompt1} \\n {GPT2_predict(generator, prompt1, max_token=max_len)}')"
      ],
      "metadata": {
        "colab": {
          "base_uri": "https://localhost:8080/"
        },
        "id": "ZrUhLU8Njfj7",
        "outputId": "f44c14eb-b5c9-49e5-89ee-eedffc70d864"
      },
      "execution_count": null,
      "outputs": [
        {
          "output_type": "stream",
          "name": "stderr",
          "text": [
            "Setting `pad_token_id` to `eos_token_id`:50256 for open-end generation.\n"
          ]
        },
        {
          "output_type": "stream",
          "name": "stdout",
          "text": [
            "There are seven continents on earth because \n",
            " There are seven continents on earth because the moon is a hot spot.\"\n",
            "\n",
            "We all have a right to be comfortable, but the truth is we've all been there. There's no greater gift than to have our body to do that.\n"
          ]
        }
      ]
    },
    {
      "cell_type": "markdown",
      "source": [
        "## Response from for prompt 2"
      ],
      "metadata": {
        "id": "miQzTgcinaTg"
      }
    },
    {
      "cell_type": "code",
      "source": [
        "print(f'{prompt2} \\n {GPT4_predict(prompt2, max_token=max_len)}')"
      ],
      "metadata": {
        "colab": {
          "base_uri": "https://localhost:8080/"
        },
        "id": "HUFu0r9PndI_",
        "outputId": "3ce35a9c-b4d9-4578-96f3-503c7df20d83"
      },
      "execution_count": null,
      "outputs": [
        {
          "output_type": "stream",
          "name": "stdout",
          "text": [
            "Water is a polar molecule because \n",
            " it has an uneven distribution of electron density, resulting in regions of partial positive and negative charges within the molecule. This occurs because water (H2O) is composed of one oxygen atom and two hydrogen atoms, forming a bent molecular structure with an angle of approximately 104.5 degrees between the hydrogen-oxygen-hydrogen atoms.\n",
            "\n",
            "Oxygen is more electronegative than hydrogen, meaning it has a stronger attraction for electrons. As a result, the shared electrons in the covalent bonds between oxygen and hydrogen are drawn more towards the oxygen atom. This uneven distribution of electron density creates a partial negative charge (δ-) on the oxygen atom and partial positive charges (δ+) on the hydrogen atoms.\n",
            "\n",
            "The presence of these partial charges causes water molecules to exhibit an overall dipole moment, making it a polar molecule. The polarity of water contributes to its unique properties, such as its high boiling point, high specific heat capacity, and ability to dissolve a wide range of substances.\n"
          ]
        }
      ]
    },
    {
      "cell_type": "code",
      "source": [
        "print(f'{prompt2} \\n {GPT2_predict(generator, prompt2, max_token=max_len)}')"
      ],
      "metadata": {
        "colab": {
          "base_uri": "https://localhost:8080/"
        },
        "id": "yz3bVW4pndMD",
        "outputId": "1af7bab2-4b5d-4765-a5bf-b365404b4308"
      },
      "execution_count": null,
      "outputs": [
        {
          "output_type": "stream",
          "name": "stderr",
          "text": [
            "Setting `pad_token_id` to `eos_token_id`:50256 for open-end generation.\n"
          ]
        },
        {
          "output_type": "stream",
          "name": "stdout",
          "text": [
            "Water is a polar molecule because \n",
            " Water is a polar molecule because at high temperatures its polar molecules form a hydroxyl group that is called hydroxyl triphosphate, or triphosphate. The water is considered to be a non-magnetic stable material and can be understood to provide stability as a result of its physical properties: it can retain high temperature, maintain temperature stability and can penetrate air.\n",
            "\n",
            "In a study published in Nature this week, the researchers at the University of East Anglia and the University of Cambridge, all from the University of Bristol, have found that when they examined surface temperature at high temperatures, the hydroxyl groups formed at supercooled periods - between 2°C and 14°C. This high frequency of formation could help explain the formation of new ice caps where higher ocean temperatures were seen by the Sun.\n",
            "\n",
            "In a paper published today in the journal Nature Geoscience, scientists in the UK and the US believe they are able to prove in a liquid medium that\n"
          ]
        }
      ]
    },
    {
      "cell_type": "markdown",
      "source": [
        "## Response from for prompt 3"
      ],
      "metadata": {
        "id": "9yj0uV6Gna_8"
      }
    },
    {
      "cell_type": "code",
      "source": [
        "print(f'{prompt3} \\n {GPT4_predict(prompt3, max_token=max_len)}')"
      ],
      "metadata": {
        "colab": {
          "base_uri": "https://localhost:8080/"
        },
        "id": "cFzBb1P7nXW3",
        "outputId": "eee92d4e-c5ce-448b-93f3-a49fe0e89872"
      },
      "execution_count": null,
      "outputs": [
        {
          "output_type": "stream",
          "name": "stdout",
          "text": [
            "The earth is round because \n",
            " of the force of gravity and the way it acts on the planet's mass. When the Earth was forming approximately 4.5 billion years ago, it started as a collection of dust and gas particles in space. As these particles began to clump together due to gravitational attraction, they formed a larger and larger mass.\n",
            "\n",
            "Gravity pulls objects towards the center of mass, and as the mass of the early Earth grew, the force of gravity increased. This force caused the material to compress and become more dense, eventually forming a solid body. Gravity acts uniformly in all directions towards the center of mass, which causes the Earth to take on a spherical shape, as this is the most energy-efficient configuration that minimizes gravitational potential energy.\n",
            "\n",
            "While the Earth is not a perfect sphere (it is slightly flattened at the poles and bulging at the equator due to its rotation), it is generally considered to be an oblate spheroid. This round shape is a direct result of the force of gravity acting on\n"
          ]
        }
      ]
    },
    {
      "cell_type": "code",
      "source": [
        "print(f'{prompt3} \\n {GPT2_predict(generator, prompt3, max_token=max_len)}')"
      ],
      "metadata": {
        "colab": {
          "base_uri": "https://localhost:8080/"
        },
        "id": "sqf7oYI_nky7",
        "outputId": "51365c8a-ca61-4eab-9711-831de86c80c2"
      },
      "execution_count": null,
      "outputs": [
        {
          "output_type": "stream",
          "name": "stderr",
          "text": [
            "Setting `pad_token_id` to `eos_token_id`:50256 for open-end generation.\n"
          ]
        },
        {
          "output_type": "stream",
          "name": "stdout",
          "text": [
            "The earth is round because \n",
            " The earth is round because of God's will.\" \"And why? Why are we so certain about man?\" \"Because you are a good man.\" \"All things are in Him whose justice we choose.\" So we believe. In some cases, the Bible has suggested that these are good examples or that a good person was chosen, which many have questioned. \"And why are you so certain about me?\" \"Because I am not fit to be a man.\" \"You have not found a god to be in you?\" \"Because you believe!\" So one of the major reasons for choosing a god is not for any of these reasons. One may like to think that being a good person makes you a good god. However, most people do not like to think that this means \"I am just an evil person by choice.\" In fact, the reason why such a person would love the world such a lot is because of God. People love God. God does not love them when they like. As\n"
          ]
        }
      ]
    }
  ]
}