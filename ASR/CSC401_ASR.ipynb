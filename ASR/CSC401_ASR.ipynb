{
  "nbformat": 4,
  "nbformat_minor": 0,
  "metadata": {
    "colab": {
      "provenance": []
    },
    "kernelspec": {
      "name": "python3",
      "display_name": "Python 3"
    },
    "language_info": {
      "name": "python"
    }
  },
  "cells": [
    {
      "cell_type": "code",
      "execution_count": 1,
      "metadata": {
        "colab": {
          "base_uri": "https://localhost:8080/"
        },
        "id": "Hl4kJoQgOsY1",
        "outputId": "b5e89355-4efe-469b-9116-131ef127b8b9"
      },
      "outputs": [
        {
          "output_type": "stream",
          "name": "stdout",
          "text": [
            "Looking in indexes: https://pypi.org/simple, https://us-python.pkg.dev/colab-wheels/public/simple/\n",
            "Collecting speechbrain\n",
            "  Downloading speechbrain-0.5.14-py3-none-any.whl (519 kB)\n",
            "\u001b[2K     \u001b[90m━━━━━━━━━━━━━━━━━━━━━━━━━━━━━━━━━━━━━━\u001b[0m \u001b[32m519.0/519.0 KB\u001b[0m \u001b[31m17.6 MB/s\u001b[0m eta \u001b[36m0:00:00\u001b[0m\n",
            "\u001b[?25hRequirement already satisfied: numpy in /usr/local/lib/python3.9/dist-packages (from speechbrain) (1.22.4)\n",
            "Collecting hyperpyyaml\n",
            "  Downloading HyperPyYAML-1.2.0-py3-none-any.whl (16 kB)\n",
            "Requirement already satisfied: scipy in /usr/local/lib/python3.9/dist-packages (from speechbrain) (1.10.1)\n",
            "Collecting sentencepiece\n",
            "  Downloading sentencepiece-0.1.97-cp39-cp39-manylinux_2_17_x86_64.manylinux2014_x86_64.whl (1.3 MB)\n",
            "\u001b[2K     \u001b[90m━━━━━━━━━━━━━━━━━━━━━━━━━━━━━━━━━━━━━━━━\u001b[0m \u001b[32m1.3/1.3 MB\u001b[0m \u001b[31m21.9 MB/s\u001b[0m eta \u001b[36m0:00:00\u001b[0m\n",
            "\u001b[?25hRequirement already satisfied: joblib in /usr/local/lib/python3.9/dist-packages (from speechbrain) (1.1.1)\n",
            "Requirement already satisfied: torchaudio in /usr/local/lib/python3.9/dist-packages (from speechbrain) (2.0.1+cu118)\n",
            "Collecting huggingface-hub\n",
            "  Downloading huggingface_hub-0.13.4-py3-none-any.whl (200 kB)\n",
            "\u001b[2K     \u001b[90m━━━━━━━━━━━━━━━━━━━━━━━━━━━━━━━━━━━━━━━\u001b[0m \u001b[32m200.1/200.1 KB\u001b[0m \u001b[31m7.6 MB/s\u001b[0m eta \u001b[36m0:00:00\u001b[0m\n",
            "\u001b[?25hRequirement already satisfied: tqdm in /usr/local/lib/python3.9/dist-packages (from speechbrain) (4.65.0)\n",
            "Requirement already satisfied: torch>=1.9 in /usr/local/lib/python3.9/dist-packages (from speechbrain) (2.0.0+cu118)\n",
            "Requirement already satisfied: packaging in /usr/local/lib/python3.9/dist-packages (from speechbrain) (23.0)\n",
            "Requirement already satisfied: networkx in /usr/local/lib/python3.9/dist-packages (from torch>=1.9->speechbrain) (3.0)\n",
            "Requirement already satisfied: sympy in /usr/local/lib/python3.9/dist-packages (from torch>=1.9->speechbrain) (1.11.1)\n",
            "Requirement already satisfied: filelock in /usr/local/lib/python3.9/dist-packages (from torch>=1.9->speechbrain) (3.10.7)\n",
            "Requirement already satisfied: triton==2.0.0 in /usr/local/lib/python3.9/dist-packages (from torch>=1.9->speechbrain) (2.0.0)\n",
            "Requirement already satisfied: typing-extensions in /usr/local/lib/python3.9/dist-packages (from torch>=1.9->speechbrain) (4.5.0)\n",
            "Requirement already satisfied: jinja2 in /usr/local/lib/python3.9/dist-packages (from torch>=1.9->speechbrain) (3.1.2)\n",
            "Requirement already satisfied: cmake in /usr/local/lib/python3.9/dist-packages (from triton==2.0.0->torch>=1.9->speechbrain) (3.25.2)\n",
            "Requirement already satisfied: lit in /usr/local/lib/python3.9/dist-packages (from triton==2.0.0->torch>=1.9->speechbrain) (16.0.0)\n",
            "Requirement already satisfied: requests in /usr/local/lib/python3.9/dist-packages (from huggingface-hub->speechbrain) (2.27.1)\n",
            "Requirement already satisfied: pyyaml>=5.1 in /usr/local/lib/python3.9/dist-packages (from huggingface-hub->speechbrain) (6.0)\n",
            "Collecting ruamel.yaml>=0.17.8\n",
            "  Downloading ruamel.yaml-0.17.21-py3-none-any.whl (109 kB)\n",
            "\u001b[2K     \u001b[90m━━━━━━━━━━━━━━━━━━━━━━━━━━━━━━━━━━━━━━━\u001b[0m \u001b[32m109.5/109.5 KB\u001b[0m \u001b[31m3.0 MB/s\u001b[0m eta \u001b[36m0:00:00\u001b[0m\n",
            "\u001b[?25hCollecting ruamel.yaml.clib>=0.2.6\n",
            "  Downloading ruamel.yaml.clib-0.2.7-cp39-cp39-manylinux_2_17_x86_64.manylinux2014_x86_64.manylinux_2_24_x86_64.whl (519 kB)\n",
            "\u001b[2K     \u001b[90m━━━━━━━━━━━━━━━━━━━━━━━━━━━━━━━━━━━━━━\u001b[0m \u001b[32m519.4/519.4 KB\u001b[0m \u001b[31m30.8 MB/s\u001b[0m eta \u001b[36m0:00:00\u001b[0m\n",
            "\u001b[?25hRequirement already satisfied: MarkupSafe>=2.0 in /usr/local/lib/python3.9/dist-packages (from jinja2->torch>=1.9->speechbrain) (2.1.2)\n",
            "Requirement already satisfied: idna<4,>=2.5 in /usr/local/lib/python3.9/dist-packages (from requests->huggingface-hub->speechbrain) (3.4)\n",
            "Requirement already satisfied: urllib3<1.27,>=1.21.1 in /usr/local/lib/python3.9/dist-packages (from requests->huggingface-hub->speechbrain) (1.26.15)\n",
            "Requirement already satisfied: certifi>=2017.4.17 in /usr/local/lib/python3.9/dist-packages (from requests->huggingface-hub->speechbrain) (2022.12.7)\n",
            "Requirement already satisfied: charset-normalizer~=2.0.0 in /usr/local/lib/python3.9/dist-packages (from requests->huggingface-hub->speechbrain) (2.0.12)\n",
            "Requirement already satisfied: mpmath>=0.19 in /usr/local/lib/python3.9/dist-packages (from sympy->torch>=1.9->speechbrain) (1.3.0)\n",
            "Installing collected packages: sentencepiece, ruamel.yaml.clib, ruamel.yaml, huggingface-hub, hyperpyyaml, speechbrain\n",
            "Successfully installed huggingface-hub-0.13.4 hyperpyyaml-1.2.0 ruamel.yaml-0.17.21 ruamel.yaml.clib-0.2.7 sentencepiece-0.1.97 speechbrain-0.5.14\n"
          ]
        }
      ],
      "source": [
        "!pip install speechbrain"
      ]
    },
    {
      "cell_type": "code",
      "source": [
        "from google.colab import drive\n",
        "drive.mount('/content/drive')\n",
        "folder = '/content/drive/MyDrive/CSC401/'"
      ],
      "metadata": {
        "colab": {
          "base_uri": "https://localhost:8080/"
        },
        "id": "tBZxR09DQrtV",
        "outputId": "8af6d1c2-b103-4f09-b862-ba501155c711"
      },
      "execution_count": 2,
      "outputs": [
        {
          "output_type": "stream",
          "name": "stdout",
          "text": [
            "Mounted at /content/drive\n"
          ]
        }
      ]
    },
    {
      "cell_type": "code",
      "source": [
        "from speechbrain.pretrained.interfaces import EncoderDecoderASR\n",
        "import torchaudio"
      ],
      "metadata": {
        "id": "x0bgi3jm4KGa"
      },
      "execution_count": 7,
      "outputs": []
    },
    {
      "cell_type": "markdown",
      "source": [
        "A word:\n",
        "\n",
        "\"Elephant.\"\n",
        "A sentence:\n",
        "\n",
        "\"The sun sets in the west every evening.\"\n",
        "A sentence, but read very slowly:\n",
        "\n",
        "\"The quick brown fox jumps over the lazy dog.\"\n",
        "A sentence read at normal speed, except speeding up at some words:\n",
        "\n",
        "\"I will travel to Paris next month for a short vacation.\"\n",
        "A sentence spoken very fast:\n",
        "\n",
        "\"She sells seashells by the seashore.\"\n",
        "(Optional) A sentence containing slang or words from a second language:\n",
        "\n",
        "\"That café has the best croissants, they're très délicieux!\"\n",
        "A sentence with one word spelled out by alphabet:\n",
        "\n",
        "\"My name is Alice, spelled A-L-I-C-E.\"\n",
        "A sentence where two neighboring words have blurred boundaries:\n",
        "\n",
        "\"I can'tbelieve it's already the end of the year.\"\n",
        "A sentence spoken with some stuttering, containing filler words and repetitiveness:\n",
        "\n",
        "\"So, um, I was, uh, going to the, you know, store and, uh, I, I saw this, um, incredible sale.\"\n",
        "A sentence with a tongue twister:\n",
        "\n",
        "\"How can a clam cram in a clean cream can?\""
      ],
      "metadata": {
        "id": "KzJAg6534Fks"
      }
    },
    {
      "cell_type": "code",
      "source": [
        "def asr_speechbrain(file_path, asr_model):\n",
        "    # Load the pre-trained ASR model\n",
        "\n",
        "    # Load the WAV file\n",
        "    # signal, sample_rate = torchaudio.load(file_path)\n",
        "\n",
        "    # Transcribe the WAV file\n",
        "    transcription = asr_model.transcribe_file(file_path)\n",
        "\n",
        "    return transcription"
      ],
      "metadata": {
        "id": "PZg-jg0LPJFs"
      },
      "execution_count": 13,
      "outputs": []
    },
    {
      "cell_type": "code",
      "source": [
        "asr_model = EncoderDecoderASR.from_hparams(source='speechbrain/asr-crdnn-rnnlm-librispeech', savedir=\"pretrained_model\")\n",
        "for i in range(10):\n",
        "  file_path = folder + f'/Recordings/{i+1}.wav'\n",
        "  transcription = asr_speechbrain(file_path, asr_model)\n",
        "  print(f\"Transcription for file {i}: {transcription}\", )"
      ],
      "metadata": {
        "id": "l6T1uqJNQnAF",
        "colab": {
          "base_uri": "https://localhost:8080/"
        },
        "outputId": "5bdced01-ca9f-42c7-9ffc-c5813cdb6aa8"
      },
      "execution_count": 14,
      "outputs": [
        {
          "output_type": "stream",
          "name": "stdout",
          "text": [
            "Transcription for file 0: ELEPHANTS\n",
            "Transcription for file 1: THE SAINT SAID IN THE WEST EVERY EVENING\n",
            "Transcription for file 2: THE QUICK BROWN FOX CHUMS COVERS LAZY DOG\n",
            "Transcription for file 3: ABROAD TRAVELLED TO PARIS NEXT MONTH FOR A SHORT VACATION\n",
            "Transcription for file 4: HIS ELSIE CHARLES BESSY SHORE\n",
            "Transcription for file 5: THE CONVEY OF THE BASILISON IN THE HAWKSHIRE\n",
            "Transcription for file 6: MY NAME IS ALICE STOUT AIN'T NOW I SEE YOU\n",
            "Transcription for file 7: A COMMITTEE IS ALREADY INNOCENTLY\n",
            "Transcription for file 8: SO ON I WAS GOING ALL GOING TO THE STORE AND OF I SOUGHT IT ON INCREDIBLE CELL\n",
            "Transcription for file 9: HOW CAN A LAMB CRAMMED IN A CLEAN QUEEN YOU CAN\n"
          ]
        }
      ]
    },
    {
      "cell_type": "code",
      "source": [],
      "metadata": {
        "id": "fOsS1HX_QnEc"
      },
      "execution_count": null,
      "outputs": []
    }
  ]
}